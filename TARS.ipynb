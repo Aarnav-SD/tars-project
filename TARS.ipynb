{
 "cells": [
  {
   "cell_type": "code",
   "execution_count": 10,
   "id": "a878c008-ebbd-4c95-a3bf-f0103caca24a",
   "metadata": {},
   "outputs": [
    {
     "name": "stdout",
     "output_type": "stream",
     "text": [
      "Listening... Speak now.\n",
      "You said: hello\n"
     ]
    }
   ],
   "source": [
    "import io\n",
    "import os\n",
    "import pyaudio\n",
    "import wave\n",
    "from google.cloud import speech\n",
    "\n",
    "os.environ[\"GOOGLE_APPLICATION_CREDENTIALS\"] = \"PATH_TO_JSON_FILE\" # Set authentication\n",
    "\n",
    "client = speech.SpeechClient()\n",
    "\n",
    "# Configure microphone\n",
    "FORMAT = pyaudio.paInt16\n",
    "CHANNELS = 1\n",
    "RATE = 16000\n",
    "CHUNK = 1024\n",
    "\n",
    "p = pyaudio.PyAudio()\n",
    "stream = p.open(format=FORMAT, channels=CHANNELS, rate=RATE, input=True, frames_per_buffer=CHUNK)\n",
    "\n",
    "print(\"Listening... Speak now.\")\n",
    "\n",
    "def recognize_speech():\n",
    "    frames = []\n",
    "    for _ in range(0, int(RATE / CHUNK * 5)):  # Record for 5 seconds\n",
    "        data = stream.read(CHUNK)\n",
    "        frames.append(data)\n",
    "\n",
    "    # Save audio file\n",
    "    wf = wave.open(\"audio.wav\", \"wb\")\n",
    "    wf.setnchannels(CHANNELS)\n",
    "    wf.setsampwidth(p.get_sample_size(FORMAT))\n",
    "    wf.setframerate(RATE)\n",
    "    wf.writeframes(b''.join(frames))\n",
    "    wf.close()\n",
    "\n",
    "    # Read and send audio to Google Cloud\n",
    "    with io.open(\"audio.wav\", \"rb\") as audio_file:\n",
    "        content = audio_file.read()\n",
    "\n",
    "    audio = speech.RecognitionAudio(content=content)\n",
    "    config = speech.RecognitionConfig(\n",
    "        encoding=speech.RecognitionConfig.AudioEncoding.LINEAR16,\n",
    "        sample_rate_hertz=RATE,\n",
    "        language_code=\"en-US\"\n",
    "    )\n",
    "\n",
    "    response = client.recognize(config=config, audio=audio)\n",
    "\n",
    "    for result in response.results:\n",
    "        return result.alternatives[0].transcript  # Return recognized text\n",
    "\n",
    "    return \"\"\n",
    "\n",
    "text = recognize_speech()\n",
    "print(f\"You said: {text}\")\n"
   ]
  },
  {
   "cell_type": "code",
   "execution_count": 1,
   "id": "00469471-6c0a-4c77-874e-8bd5c4e00193",
   "metadata": {},
   "outputs": [
    {
     "name": "stdout",
     "output_type": "stream",
     "text": [
      "Collecting openai\n",
      "  Downloading openai-1.65.4-py3-none-any.whl.metadata (27 kB)\n",
      "Requirement already satisfied: anyio<5,>=3.5.0 in c:\\users\\aarna\\anaconda3\\lib\\site-packages (from openai) (4.2.0)\n",
      "Requirement already satisfied: distro<2,>=1.7.0 in c:\\users\\aarna\\anaconda3\\lib\\site-packages (from openai) (1.9.0)\n",
      "Requirement already satisfied: httpx<1,>=0.23.0 in c:\\users\\aarna\\anaconda3\\lib\\site-packages (from openai) (0.27.0)\n",
      "Collecting jiter<1,>=0.4.0 (from openai)\n",
      "  Downloading jiter-0.8.2-cp312-cp312-win_amd64.whl.metadata (5.3 kB)\n",
      "Requirement already satisfied: pydantic<3,>=1.9.0 in c:\\users\\aarna\\anaconda3\\lib\\site-packages (from openai) (2.8.2)\n",
      "Requirement already satisfied: sniffio in c:\\users\\aarna\\anaconda3\\lib\\site-packages (from openai) (1.3.0)\n",
      "Requirement already satisfied: tqdm>4 in c:\\users\\aarna\\anaconda3\\lib\\site-packages (from openai) (4.66.4)\n",
      "Requirement already satisfied: typing-extensions<5,>=4.11 in c:\\users\\aarna\\anaconda3\\lib\\site-packages (from openai) (4.11.0)\n",
      "Requirement already satisfied: idna>=2.8 in c:\\users\\aarna\\anaconda3\\lib\\site-packages (from anyio<5,>=3.5.0->openai) (3.7)\n",
      "Requirement already satisfied: certifi in c:\\users\\aarna\\anaconda3\\lib\\site-packages (from httpx<1,>=0.23.0->openai) (2024.8.30)\n",
      "Requirement already satisfied: httpcore==1.* in c:\\users\\aarna\\anaconda3\\lib\\site-packages (from httpx<1,>=0.23.0->openai) (1.0.2)\n",
      "Requirement already satisfied: h11<0.15,>=0.13 in c:\\users\\aarna\\anaconda3\\lib\\site-packages (from httpcore==1.*->httpx<1,>=0.23.0->openai) (0.14.0)\n",
      "Requirement already satisfied: annotated-types>=0.4.0 in c:\\users\\aarna\\anaconda3\\lib\\site-packages (from pydantic<3,>=1.9.0->openai) (0.6.0)\n",
      "Requirement already satisfied: pydantic-core==2.20.1 in c:\\users\\aarna\\anaconda3\\lib\\site-packages (from pydantic<3,>=1.9.0->openai) (2.20.1)\n",
      "Requirement already satisfied: colorama in c:\\users\\aarna\\anaconda3\\lib\\site-packages (from tqdm>4->openai) (0.4.6)\n",
      "Downloading openai-1.65.4-py3-none-any.whl (473 kB)\n",
      "   ---------------------------------------- 0.0/473.5 kB ? eta -:--:--\n",
      "   --------------- ------------------------ 184.3/473.5 kB 5.6 MB/s eta 0:00:01\n",
      "   ----------------------------------- ---- 419.8/473.5 kB 5.3 MB/s eta 0:00:01\n",
      "   ---------------------------------------- 473.5/473.5 kB 4.3 MB/s eta 0:00:00\n",
      "Downloading jiter-0.8.2-cp312-cp312-win_amd64.whl (204 kB)\n",
      "   ---------------------------------------- 0.0/204.7 kB ? eta -:--:--\n",
      "   --------------------------------------- 204.7/204.7 kB 13.0 MB/s eta 0:00:00\n",
      "Installing collected packages: jiter, openai\n",
      "Successfully installed jiter-0.8.2 openai-1.65.4\n",
      "Note: you may need to restart the kernel to use updated packages.\n"
     ]
    }
   ],
   "source": [
    "pip install openai"
   ]
  },
  {
   "cell_type": "markdown",
   "id": "b88e3441-938e-412c-a5eb-138711fe9a26",
   "metadata": {},
   "source": [
    "### YOU WILL NEED TO PAY TO USE THE OPENAI API, UNLESS YOU HAVE FREE TRIAL, IN WHICH CASE CHECK WHICH MODEL IS AVAILABLE AND SWAP THE MODEL ATTR. IN RESPONSE OBJ"
   ]
  },
  {
   "cell_type": "code",
   "execution_count": null,
   "id": "0e5e1eb3-3a1f-4e4f-ac6c-002e8f8a6d24",
   "metadata": {},
   "outputs": [],
   "source": [
    "import openai\n",
    "\n",
    "openai.api_key = \"API_KEY\"  # Replace with your actual OpenAI API key\n",
    "\n",
    "client = openai.OpenAI(api_key=openai.api_key)  # Pass the API key explicitly\n",
    "\n",
    "def get_humorous_response(user_input, humor_level=0.9):\n",
    "    response = client.chat.completions.create(\n",
    "        model=\"gpt-4o\",\n",
    "        messages=[\n",
    "            {\"role\": \"system\", \"content\": f\"You are TARS, a witty AI with a humor setting of {humor_level}.\"},\n",
    "            {\"role\": \"user\", \"content\": user_input}\n",
    "        ],\n",
    "        temperature=humor_level\n",
    "    )\n",
    "    return response.choices[0].message.content\n",
    "\n",
    "# Test\n",
    "user_input = \"Tell me something about black holes.\"\n",
    "tars_response = get_humorous_response(user_input)\n",
    "print(f\"TARS: {tars_response}\")"
   ]
  },
  {
   "cell_type": "code",
   "execution_count": null,
   "id": "e869c379-6d6e-41f1-82e8-a83c37874aa7",
   "metadata": {},
   "outputs": [],
   "source": [
    "from google.cloud import texttospeech\n",
    "import simpleaudio as sa\n",
    "\n",
    "os.environ[\"GOOGLE_APPLICATION_CREDENTIALS\"] = \"PATH_TO_JSON_FILE\"  # Set authentication\n",
    "\n",
    "client = texttospeech.TextToSpeechClient()\n",
    "\n",
    "def speak(text):\n",
    "    synthesis_input = texttospeech.SynthesisInput(text=text)\n",
    "    voice = texttospeech.VoiceSelectionParams(language_code=\"en-US\", name=\"en-US-Wavenet-D\")\n",
    "    audio_config = texttospeech.AudioConfig(audio_encoding=texttospeech.AudioEncoding.LINEAR16)\n",
    "\n",
    "    response = client.synthesize_speech(input=synthesis_input, voice=voice, audio_config=audio_config)\n",
    "\n",
    "    with open(\"response.wav\", \"wb\") as out:\n",
    "        out.write(response.audio_content)\n",
    "\n",
    "    # Play the audio\n",
    "    wave_obj = sa.WaveObject.from_wave_file(\"response.wav\")\n",
    "    play_obj = wave_obj.play()\n",
    "    play_obj.wait_done()\n",
    "\n",
    "speak(\"Hello! I am TARS. How can I assist you?\")\n"
   ]
  },
  {
   "cell_type": "code",
   "execution_count": 3,
   "id": "2b1a4a23-c13c-4d20-8740-ca9bfa8ba7bb",
   "metadata": {},
   "outputs": [
    {
     "name": "stderr",
     "output_type": "stream",
     "text": [
      "Cloning into 'yolov5'...\n"
     ]
    }
   ],
   "source": [
    "!git clone https://github.com/ultralytics/yolov5.git"
   ]
  },
  {
   "cell_type": "code",
   "execution_count": 5,
   "id": "73471455-c742-4bec-89d5-4711257b617e",
   "metadata": {},
   "outputs": [
    {
     "name": "stdout",
     "output_type": "stream",
     "text": [
      "C:\\Users\\aarna\\Downloads\\tars-things\\yolov5\n"
     ]
    }
   ],
   "source": [
    "%cd yolov5"
   ]
  },
  {
   "cell_type": "code",
   "execution_count": 7,
   "id": "f659ab84-53a7-4c91-9cd7-522469d67def",
   "metadata": {
    "scrolled": true
   },
   "outputs": [
    {
     "name": "stdout",
     "output_type": "stream",
     "text": [
      "Requirement already satisfied: gitpython>=3.1.30 in c:\\users\\aarna\\anaconda3\\lib\\site-packages (from -r requirements.txt (line 5)) (3.1.37)\n",
      "Requirement already satisfied: matplotlib>=3.3 in c:\\users\\aarna\\anaconda3\\lib\\site-packages (from -r requirements.txt (line 6)) (3.8.4)\n",
      "Requirement already satisfied: numpy>=1.23.5 in c:\\users\\aarna\\anaconda3\\lib\\site-packages (from -r requirements.txt (line 7)) (1.26.4)\n",
      "Requirement already satisfied: opencv-python>=4.1.1 in c:\\users\\aarna\\anaconda3\\lib\\site-packages (from -r requirements.txt (line 8)) (4.11.0.86)\n",
      "Requirement already satisfied: pillow>=10.3.0 in c:\\users\\aarna\\anaconda3\\lib\\site-packages (from -r requirements.txt (line 9)) (10.3.0)\n",
      "Requirement already satisfied: psutil in c:\\users\\aarna\\anaconda3\\lib\\site-packages (from -r requirements.txt (line 10)) (5.9.0)\n",
      "Requirement already satisfied: PyYAML>=5.3.1 in c:\\users\\aarna\\anaconda3\\lib\\site-packages (from -r requirements.txt (line 11)) (6.0.1)\n",
      "Requirement already satisfied: requests>=2.32.2 in c:\\users\\aarna\\anaconda3\\lib\\site-packages (from -r requirements.txt (line 12)) (2.32.2)\n",
      "Requirement already satisfied: scipy>=1.4.1 in c:\\users\\aarna\\anaconda3\\lib\\site-packages (from -r requirements.txt (line 13)) (1.13.1)\n",
      "Requirement already satisfied: thop>=0.1.1 in c:\\users\\aarna\\anaconda3\\lib\\site-packages (from -r requirements.txt (line 14)) (0.1.1.post2209072238)\n",
      "Requirement already satisfied: torch>=1.8.0 in c:\\users\\aarna\\anaconda3\\lib\\site-packages (from -r requirements.txt (line 15)) (2.6.0)\n",
      "Requirement already satisfied: torchvision>=0.9.0 in c:\\users\\aarna\\anaconda3\\lib\\site-packages (from -r requirements.txt (line 16)) (0.21.0)\n",
      "Requirement already satisfied: tqdm>=4.66.3 in c:\\users\\aarna\\anaconda3\\lib\\site-packages (from -r requirements.txt (line 17)) (4.66.4)\n",
      "Requirement already satisfied: ultralytics>=8.2.34 in c:\\users\\aarna\\anaconda3\\lib\\site-packages (from -r requirements.txt (line 18)) (8.3.85)\n",
      "Requirement already satisfied: pandas>=1.1.4 in c:\\users\\aarna\\anaconda3\\lib\\site-packages (from -r requirements.txt (line 27)) (2.2.2)\n",
      "Requirement already satisfied: seaborn>=0.11.0 in c:\\users\\aarna\\anaconda3\\lib\\site-packages (from -r requirements.txt (line 28)) (0.13.2)\n",
      "Requirement already satisfied: setuptools>=70.0.0 in c:\\users\\aarna\\anaconda3\\lib\\site-packages (from -r requirements.txt (line 42)) (75.8.2)\n",
      "Requirement already satisfied: gitdb<5,>=4.0.1 in c:\\users\\aarna\\anaconda3\\lib\\site-packages (from gitpython>=3.1.30->-r requirements.txt (line 5)) (4.0.7)\n",
      "Requirement already satisfied: contourpy>=1.0.1 in c:\\users\\aarna\\anaconda3\\lib\\site-packages (from matplotlib>=3.3->-r requirements.txt (line 6)) (1.2.0)\n",
      "Requirement already satisfied: cycler>=0.10 in c:\\users\\aarna\\anaconda3\\lib\\site-packages (from matplotlib>=3.3->-r requirements.txt (line 6)) (0.11.0)\n",
      "Requirement already satisfied: fonttools>=4.22.0 in c:\\users\\aarna\\anaconda3\\lib\\site-packages (from matplotlib>=3.3->-r requirements.txt (line 6)) (4.51.0)\n",
      "Requirement already satisfied: kiwisolver>=1.3.1 in c:\\users\\aarna\\anaconda3\\lib\\site-packages (from matplotlib>=3.3->-r requirements.txt (line 6)) (1.4.4)\n",
      "Requirement already satisfied: packaging>=20.0 in c:\\users\\aarna\\anaconda3\\lib\\site-packages (from matplotlib>=3.3->-r requirements.txt (line 6)) (23.2)\n",
      "Requirement already satisfied: pyparsing>=2.3.1 in c:\\users\\aarna\\anaconda3\\lib\\site-packages (from matplotlib>=3.3->-r requirements.txt (line 6)) (3.0.9)\n",
      "Requirement already satisfied: python-dateutil>=2.7 in c:\\users\\aarna\\anaconda3\\lib\\site-packages (from matplotlib>=3.3->-r requirements.txt (line 6)) (2.9.0.post0)\n",
      "Requirement already satisfied: charset-normalizer<4,>=2 in c:\\users\\aarna\\anaconda3\\lib\\site-packages (from requests>=2.32.2->-r requirements.txt (line 12)) (2.0.4)\n",
      "Requirement already satisfied: idna<4,>=2.5 in c:\\users\\aarna\\anaconda3\\lib\\site-packages (from requests>=2.32.2->-r requirements.txt (line 12)) (3.7)\n",
      "Requirement already satisfied: urllib3<3,>=1.21.1 in c:\\users\\aarna\\anaconda3\\lib\\site-packages (from requests>=2.32.2->-r requirements.txt (line 12)) (2.2.2)\n",
      "Requirement already satisfied: certifi>=2017.4.17 in c:\\users\\aarna\\anaconda3\\lib\\site-packages (from requests>=2.32.2->-r requirements.txt (line 12)) (2024.8.30)\n",
      "Requirement already satisfied: filelock in c:\\users\\aarna\\anaconda3\\lib\\site-packages (from torch>=1.8.0->-r requirements.txt (line 15)) (3.13.1)\n",
      "Requirement already satisfied: typing-extensions>=4.10.0 in c:\\users\\aarna\\anaconda3\\lib\\site-packages (from torch>=1.8.0->-r requirements.txt (line 15)) (4.11.0)\n",
      "Requirement already satisfied: networkx in c:\\users\\aarna\\anaconda3\\lib\\site-packages (from torch>=1.8.0->-r requirements.txt (line 15)) (3.2.1)\n",
      "Requirement already satisfied: jinja2 in c:\\users\\aarna\\anaconda3\\lib\\site-packages (from torch>=1.8.0->-r requirements.txt (line 15)) (3.1.4)\n",
      "Requirement already satisfied: fsspec in c:\\users\\aarna\\anaconda3\\lib\\site-packages (from torch>=1.8.0->-r requirements.txt (line 15)) (2024.3.1)\n",
      "Requirement already satisfied: sympy==1.13.1 in c:\\users\\aarna\\anaconda3\\lib\\site-packages (from torch>=1.8.0->-r requirements.txt (line 15)) (1.13.1)\n",
      "Requirement already satisfied: mpmath<1.4,>=1.1.0 in c:\\users\\aarna\\anaconda3\\lib\\site-packages (from sympy==1.13.1->torch>=1.8.0->-r requirements.txt (line 15)) (1.3.0)\n",
      "Requirement already satisfied: colorama in c:\\users\\aarna\\anaconda3\\lib\\site-packages (from tqdm>=4.66.3->-r requirements.txt (line 17)) (0.4.6)\n",
      "Requirement already satisfied: py-cpuinfo in c:\\users\\aarna\\anaconda3\\lib\\site-packages (from ultralytics>=8.2.34->-r requirements.txt (line 18)) (9.0.0)\n",
      "Requirement already satisfied: ultralytics-thop>=2.0.0 in c:\\users\\aarna\\anaconda3\\lib\\site-packages (from ultralytics>=8.2.34->-r requirements.txt (line 18)) (2.0.14)\n",
      "Requirement already satisfied: pytz>=2020.1 in c:\\users\\aarna\\anaconda3\\lib\\site-packages (from pandas>=1.1.4->-r requirements.txt (line 27)) (2024.1)\n",
      "Requirement already satisfied: tzdata>=2022.7 in c:\\users\\aarna\\anaconda3\\lib\\site-packages (from pandas>=1.1.4->-r requirements.txt (line 27)) (2023.3)\n",
      "Requirement already satisfied: smmap<5,>=3.0.1 in c:\\users\\aarna\\anaconda3\\lib\\site-packages (from gitdb<5,>=4.0.1->gitpython>=3.1.30->-r requirements.txt (line 5)) (4.0.0)\n",
      "Requirement already satisfied: six>=1.5 in c:\\users\\aarna\\anaconda3\\lib\\site-packages (from python-dateutil>=2.7->matplotlib>=3.3->-r requirements.txt (line 6)) (1.16.0)\n",
      "Requirement already satisfied: MarkupSafe>=2.0 in c:\\users\\aarna\\anaconda3\\lib\\site-packages (from jinja2->torch>=1.8.0->-r requirements.txt (line 15)) (2.1.3)\n"
     ]
    }
   ],
   "source": [
    "!pip install -r requirements.txt"
   ]
  },
  {
   "cell_type": "code",
   "execution_count": null,
   "id": "d985cb89-7b64-43c0-b811-afec4566b9e4",
   "metadata": {},
   "outputs": [
    {
     "name": "stderr",
     "output_type": "stream",
     "text": [
      "YOLOv5  v7.0-398-g5cdad892 Python-3.12.4 torch-2.6.0+cpu CPU\n",
      "\n",
      "Fusing layers... \n",
      "YOLOv5s summary: 213 layers, 7225885 parameters, 0 gradients, 16.4 GFLOPs\n"
     ]
    }
   ],
   "source": [
    "import cv2\n",
    "import torch\n",
    "from yolov5.models.common import DetectMultiBackend\n",
    "from yolov5.utils.general import non_max_suppression\n",
    "from yolov5.utils.plots import Annotator  # New module for drawing boxes\n",
    "from yolov5.utils.torch_utils import select_device\n",
    "\n",
    "# Load YOLO model\n",
    "device = select_device('cpu')  # Change to 'cuda' if using GPU\n",
    "model = DetectMultiBackend(\"yolov5s.pt\", device=device)\n",
    "model.eval()\n",
    "\n",
    "cap = cv2.VideoCapture(0)\n",
    "\n",
    "while cap.isOpened():\n",
    "    ret, frame = cap.read()\n",
    "    if not ret:\n",
    "        break\n",
    "\n",
    "    img = torch.from_numpy(frame).permute(2, 0, 1).float() / 255.0\n",
    "    img = img.unsqueeze(0)\n",
    "\n",
    "    with torch.no_grad():\n",
    "        preds = model(img)\n",
    "\n",
    "    detections = non_max_suppression(preds, 0.5, 0.45)\n",
    "\n",
    "    for det in detections:\n",
    "        if len(det):\n",
    "            annotator = Annotator(frame)\n",
    "            for *xyxy, conf, cls in det:\n",
    "                label = f\"{model.names[int(cls)]} {conf:.2f}\"\n",
    "                annotator.box_label(xyxy, label)\n",
    "\n",
    "    cv2.imshow(\"TARS Vision\", frame)\n",
    "\n",
    "    if cv2.waitKey(1) & 0xFF == ord('q'):\n",
    "        break\n",
    "\n",
    "cap.release()\n",
    "cv2.destroyAllWindows()\n"
   ]
  },
  {
   "cell_type": "code",
   "execution_count": null,
   "id": "876c65f5-9db9-453e-a2bc-206f700e187f",
   "metadata": {},
   "outputs": [],
   "source": []
  }
 ],
 "metadata": {
  "kernelspec": {
   "display_name": "Python 3 (ipykernel)",
   "language": "python",
   "name": "python3"
  },
  "language_info": {
   "codemirror_mode": {
    "name": "ipython",
    "version": 3
   },
   "file_extension": ".py",
   "mimetype": "text/x-python",
   "name": "python",
   "nbconvert_exporter": "python",
   "pygments_lexer": "ipython3",
   "version": "3.12.4"
  }
 },
 "nbformat": 4,
 "nbformat_minor": 5
}
